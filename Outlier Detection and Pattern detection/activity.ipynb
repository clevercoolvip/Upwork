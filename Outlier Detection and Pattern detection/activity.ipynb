{
 "cells": [
  {
   "cell_type": "code",
   "execution_count": 1,
   "id": "72b0eec9-bb95-4983-bf4b-14939f50460c",
   "metadata": {},
   "outputs": [],
   "source": [
    "'''Importing Data Manipulation Modules'''\n",
    "import numpy as np                 # For mathematical calculations \n",
    "import pandas as pd                # For data preprocessing, reading/writing CSV files\n",
    "\n",
    "'''Seaborn and Matplotlib Visualization'''\n",
    "import matplotlib                  # for graph plots\n",
    "import matplotlib.pyplot as plt      \n",
    "import seaborn as sns              # for data Visualization\n",
    "            \n",
    "%matplotlib inline\n",
    "'''Plotly Visualizations'''\n",
    "import matplotlib as plotly      # for Interactive Graphing Library\n",
    "from matplotlib import cm        # for colormaps in matplotlib \n",
    "from plotly.offline import plot  # for creating graphs that can be saved in computer & viewed in html     \n",
    "\n",
    "'''Machine Learning'''\n",
    "import sklearn\n",
    "from sklearn import preprocessing   # for data understanding and data preprocessing\n",
    "from sklearn import metrics         # for evaluation prediction results\n",
    "from sklearn.metrics import r2_score, mean_squared_error    # for prediction & evaluation\n",
    "from sklearn.preprocessing import LabelEncoder, OneHotEncoder    # for encoding categorical columns\n",
    "from sklearn.model_selection import train_test_split              # for training the data\n",
    "from sklearn.linear_model import LinearRegression, Lasso, LassoCV, Ridge   # for Linear Regression, L1,L2\n",
    "from sklearn.model_selection import cross_val_score # for cross validation \n",
    "\n",
    "'''For Runtime Warnings''' \n",
    "import warnings\n",
    "from pandas.core.common import SettingWithCopyWarning    # for warnings while copying datasets & columns\n",
    "warnings.filterwarnings(\"ignore\", category=RuntimeWarning)  # to avoid runtime warnings\n",
    "# I was getting divide by zero error so I added this"
   ]
  },
  {
   "cell_type": "code",
   "execution_count": 2,
   "id": "071f3042-9e2f-4a8b-bdb0-7c82cc8f4536",
   "metadata": {},
   "outputs": [],
   "source": [
    "'''Read Data from csv file'''\n",
    "df_sleep = pd.read_csv(r'14-DataA.csv')"
   ]
  },
  {
   "cell_type": "code",
   "execution_count": 3,
   "id": "e71c579b-fe3d-4bf3-b64b-63e1891b7439",
   "metadata": {},
   "outputs": [
    {
     "data": {
      "text/html": [
       "<div>\n",
       "<style scoped>\n",
       "    .dataframe tbody tr th:only-of-type {\n",
       "        vertical-align: middle;\n",
       "    }\n",
       "\n",
       "    .dataframe tbody tr th {\n",
       "        vertical-align: top;\n",
       "    }\n",
       "\n",
       "    .dataframe thead th {\n",
       "        text-align: right;\n",
       "    }\n",
       "</style>\n",
       "<table border=\"1\" class=\"dataframe\">\n",
       "  <thead>\n",
       "    <tr style=\"text-align: right;\">\n",
       "      <th></th>\n",
       "      <th>Gender</th>\n",
       "      <th>Sleep_time</th>\n",
       "      <th>Wake_up_time</th>\n",
       "      <th>Sleep_duration</th>\n",
       "      <th>Health_status</th>\n",
       "      <th>Screentime_before_sleep_hrs</th>\n",
       "      <th>Workhours</th>\n",
       "      <th>Meal_intake</th>\n",
       "      <th>Smoking</th>\n",
       "      <th>Drinking</th>\n",
       "      <th>Sleep_Quality_%</th>\n",
       "    </tr>\n",
       "  </thead>\n",
       "  <tbody>\n",
       "    <tr>\n",
       "      <th>0</th>\n",
       "      <td>Female</td>\n",
       "      <td>2022-05-05 03:45:00</td>\n",
       "      <td>2022-05-05 12:30:00</td>\n",
       "      <td>0 days 08:45:00</td>\n",
       "      <td>Okay</td>\n",
       "      <td>1.25</td>\n",
       "      <td>5.5</td>\n",
       "      <td>2</td>\n",
       "      <td>True</td>\n",
       "      <td>True</td>\n",
       "      <td>61</td>\n",
       "    </tr>\n",
       "    <tr>\n",
       "      <th>1</th>\n",
       "      <td>Female</td>\n",
       "      <td>2022-05-05 23:15:00</td>\n",
       "      <td>2022-05-06 06:30:00</td>\n",
       "      <td>0 days 07:15:00</td>\n",
       "      <td>Okay</td>\n",
       "      <td>1.50</td>\n",
       "      <td>8.0</td>\n",
       "      <td>3</td>\n",
       "      <td>True</td>\n",
       "      <td>False</td>\n",
       "      <td>40</td>\n",
       "    </tr>\n",
       "    <tr>\n",
       "      <th>2</th>\n",
       "      <td>Male</td>\n",
       "      <td>2022-05-05 22:30:00</td>\n",
       "      <td>2022-05-06 06:00:00</td>\n",
       "      <td>0 days 07:30:00</td>\n",
       "      <td>Healthy</td>\n",
       "      <td>2.25</td>\n",
       "      <td>8.5</td>\n",
       "      <td>3</td>\n",
       "      <td>True</td>\n",
       "      <td>False</td>\n",
       "      <td>41</td>\n",
       "    </tr>\n",
       "    <tr>\n",
       "      <th>3</th>\n",
       "      <td>Male</td>\n",
       "      <td>2022-05-05 03:00:00</td>\n",
       "      <td>2022-05-05 17:00:00</td>\n",
       "      <td>0 days 14:00:00</td>\n",
       "      <td>Sick</td>\n",
       "      <td>2.50</td>\n",
       "      <td>7.5</td>\n",
       "      <td>3</td>\n",
       "      <td>True</td>\n",
       "      <td>False</td>\n",
       "      <td>42</td>\n",
       "    </tr>\n",
       "    <tr>\n",
       "      <th>4</th>\n",
       "      <td>Male</td>\n",
       "      <td>2022-05-05 00:15:00</td>\n",
       "      <td>2022-05-05 06:30:00</td>\n",
       "      <td>0 days 06:15:00</td>\n",
       "      <td>Okay</td>\n",
       "      <td>1.75</td>\n",
       "      <td>10.0</td>\n",
       "      <td>4</td>\n",
       "      <td>False</td>\n",
       "      <td>True</td>\n",
       "      <td>42</td>\n",
       "    </tr>\n",
       "  </tbody>\n",
       "</table>\n",
       "</div>"
      ],
      "text/plain": [
       "   Gender           Sleep_time         Wake_up_time   Sleep_duration  \\\n",
       "0  Female  2022-05-05 03:45:00  2022-05-05 12:30:00  0 days 08:45:00   \n",
       "1  Female  2022-05-05 23:15:00  2022-05-06 06:30:00  0 days 07:15:00   \n",
       "2    Male  2022-05-05 22:30:00  2022-05-06 06:00:00  0 days 07:30:00   \n",
       "3    Male  2022-05-05 03:00:00  2022-05-05 17:00:00  0 days 14:00:00   \n",
       "4    Male  2022-05-05 00:15:00  2022-05-05 06:30:00  0 days 06:15:00   \n",
       "\n",
       "  Health_status  Screentime_before_sleep_hrs  Workhours  Meal_intake  Smoking  \\\n",
       "0          Okay                         1.25        5.5            2     True   \n",
       "1          Okay                         1.50        8.0            3     True   \n",
       "2       Healthy                         2.25        8.5            3     True   \n",
       "3          Sick                         2.50        7.5            3     True   \n",
       "4          Okay                         1.75       10.0            4    False   \n",
       "\n",
       "   Drinking  Sleep_Quality_%  \n",
       "0      True               61  \n",
       "1     False               40  \n",
       "2     False               41  \n",
       "3     False               42  \n",
       "4      True               42  "
      ]
     },
     "execution_count": 3,
     "metadata": {},
     "output_type": "execute_result"
    }
   ],
   "source": [
    "df_sleep.head()"
   ]
  },
  {
   "cell_type": "code",
   "execution_count": 4,
   "id": "809f2ba3-938a-4863-a85c-9e801e1e28f4",
   "metadata": {},
   "outputs": [
    {
     "data": {
      "text/html": [
       "<div>\n",
       "<style scoped>\n",
       "    .dataframe tbody tr th:only-of-type {\n",
       "        vertical-align: middle;\n",
       "    }\n",
       "\n",
       "    .dataframe tbody tr th {\n",
       "        vertical-align: top;\n",
       "    }\n",
       "\n",
       "    .dataframe thead th {\n",
       "        text-align: right;\n",
       "    }\n",
       "</style>\n",
       "<table border=\"1\" class=\"dataframe\">\n",
       "  <thead>\n",
       "    <tr style=\"text-align: right;\">\n",
       "      <th></th>\n",
       "      <th>Gender</th>\n",
       "      <th>Sleep_time</th>\n",
       "      <th>Wake_up_time</th>\n",
       "      <th>Sleep_duration</th>\n",
       "      <th>Health_status</th>\n",
       "      <th>Screentime_before_sleep_hrs</th>\n",
       "      <th>Workhours</th>\n",
       "      <th>Meal_intake</th>\n",
       "      <th>Smoking</th>\n",
       "      <th>Drinking</th>\n",
       "      <th>Sleep_Quality_%</th>\n",
       "    </tr>\n",
       "  </thead>\n",
       "  <tbody>\n",
       "    <tr>\n",
       "      <th>9995</th>\n",
       "      <td>Female</td>\n",
       "      <td>2022-05-05 19:15:00</td>\n",
       "      <td>2022-05-06 01:30:00</td>\n",
       "      <td>0 days 06:15:00</td>\n",
       "      <td>Healthy</td>\n",
       "      <td>2.25</td>\n",
       "      <td>10.0</td>\n",
       "      <td>3</td>\n",
       "      <td>False</td>\n",
       "      <td>True</td>\n",
       "      <td>52</td>\n",
       "    </tr>\n",
       "    <tr>\n",
       "      <th>9996</th>\n",
       "      <td>Female</td>\n",
       "      <td>2022-05-05 18:15:00</td>\n",
       "      <td>2022-05-06 05:30:00</td>\n",
       "      <td>0 days 11:15:00</td>\n",
       "      <td>Sick</td>\n",
       "      <td>2.25</td>\n",
       "      <td>7.5</td>\n",
       "      <td>3</td>\n",
       "      <td>True</td>\n",
       "      <td>True</td>\n",
       "      <td>67</td>\n",
       "    </tr>\n",
       "    <tr>\n",
       "      <th>9997</th>\n",
       "      <td>Male</td>\n",
       "      <td>2022-05-05 21:00:00</td>\n",
       "      <td>2022-05-06 03:00:00</td>\n",
       "      <td>0 days 06:00:00</td>\n",
       "      <td>Healthy</td>\n",
       "      <td>2.50</td>\n",
       "      <td>6.0</td>\n",
       "      <td>2</td>\n",
       "      <td>True</td>\n",
       "      <td>True</td>\n",
       "      <td>69</td>\n",
       "    </tr>\n",
       "    <tr>\n",
       "      <th>9998</th>\n",
       "      <td>Female</td>\n",
       "      <td>2022-05-05 19:00:00</td>\n",
       "      <td>2022-05-06 01:00:00</td>\n",
       "      <td>0 days 06:00:00</td>\n",
       "      <td>Healthy</td>\n",
       "      <td>2.00</td>\n",
       "      <td>7.5</td>\n",
       "      <td>3</td>\n",
       "      <td>True</td>\n",
       "      <td>True</td>\n",
       "      <td>40</td>\n",
       "    </tr>\n",
       "    <tr>\n",
       "      <th>9999</th>\n",
       "      <td>Male</td>\n",
       "      <td>2022-05-05 21:15:00</td>\n",
       "      <td>2022-05-06 08:30:00</td>\n",
       "      <td>0 days 11:15:00</td>\n",
       "      <td>Sick</td>\n",
       "      <td>1.75</td>\n",
       "      <td>9.0</td>\n",
       "      <td>3</td>\n",
       "      <td>False</td>\n",
       "      <td>False</td>\n",
       "      <td>51</td>\n",
       "    </tr>\n",
       "  </tbody>\n",
       "</table>\n",
       "</div>"
      ],
      "text/plain": [
       "      Gender           Sleep_time         Wake_up_time   Sleep_duration  \\\n",
       "9995  Female  2022-05-05 19:15:00  2022-05-06 01:30:00  0 days 06:15:00   \n",
       "9996  Female  2022-05-05 18:15:00  2022-05-06 05:30:00  0 days 11:15:00   \n",
       "9997    Male  2022-05-05 21:00:00  2022-05-06 03:00:00  0 days 06:00:00   \n",
       "9998  Female  2022-05-05 19:00:00  2022-05-06 01:00:00  0 days 06:00:00   \n",
       "9999    Male  2022-05-05 21:15:00  2022-05-06 08:30:00  0 days 11:15:00   \n",
       "\n",
       "     Health_status  Screentime_before_sleep_hrs  Workhours  Meal_intake  \\\n",
       "9995       Healthy                         2.25       10.0            3   \n",
       "9996          Sick                         2.25        7.5            3   \n",
       "9997       Healthy                         2.50        6.0            2   \n",
       "9998       Healthy                         2.00        7.5            3   \n",
       "9999          Sick                         1.75        9.0            3   \n",
       "\n",
       "      Smoking  Drinking  Sleep_Quality_%  \n",
       "9995    False      True               52  \n",
       "9996     True      True               67  \n",
       "9997     True      True               69  \n",
       "9998     True      True               40  \n",
       "9999    False     False               51  "
      ]
     },
     "execution_count": 4,
     "metadata": {},
     "output_type": "execute_result"
    }
   ],
   "source": [
    "df_sleep.tail()"
   ]
  },
  {
   "cell_type": "markdown",
   "id": "ab6f860d-7ab2-4a63-9333-c498e595a1e2",
   "metadata": {},
   "source": [
    "## Understanding our Data"
   ]
  },
  {
   "cell_type": "markdown",
   "id": "feea94c3-9f8a-4bd8-8639-a217ae49ff1a",
   "metadata": {},
   "source": [
    "###### Check columns of dataframe"
   ]
  },
  {
   "cell_type": "code",
   "execution_count": 5,
   "id": "f48bb8d5-db9d-44b5-af53-998b7fceead5",
   "metadata": {},
   "outputs": [
    {
     "data": {
      "text/plain": [
       "Index(['Gender', 'Sleep_time', 'Wake_up_time', 'Sleep_duration',\n",
       "       'Health_status', 'Screentime_before_sleep_hrs', 'Workhours',\n",
       "       'Meal_intake', 'Smoking', 'Drinking', 'Sleep_Quality_%'],\n",
       "      dtype='object')"
      ]
     },
     "execution_count": 5,
     "metadata": {},
     "output_type": "execute_result"
    }
   ],
   "source": [
    "df_sleep.columns"
   ]
  },
  {
   "cell_type": "code",
   "execution_count": 6,
   "id": "04df7303-1ac1-446e-a114-9c0a8378027a",
   "metadata": {},
   "outputs": [
    {
     "data": {
      "text/html": [
       "<div>\n",
       "<style scoped>\n",
       "    .dataframe tbody tr th:only-of-type {\n",
       "        vertical-align: middle;\n",
       "    }\n",
       "\n",
       "    .dataframe tbody tr th {\n",
       "        vertical-align: top;\n",
       "    }\n",
       "\n",
       "    .dataframe thead th {\n",
       "        text-align: right;\n",
       "    }\n",
       "</style>\n",
       "<table border=\"1\" class=\"dataframe\">\n",
       "  <thead>\n",
       "    <tr style=\"text-align: right;\">\n",
       "      <th></th>\n",
       "      <th>Screentime_before_sleep_hrs</th>\n",
       "      <th>Workhours</th>\n",
       "      <th>Meal_intake</th>\n",
       "      <th>Sleep_Quality_%</th>\n",
       "    </tr>\n",
       "  </thead>\n",
       "  <tbody>\n",
       "    <tr>\n",
       "      <th>count</th>\n",
       "      <td>10000.000000</td>\n",
       "      <td>10000.000000</td>\n",
       "      <td>10000.000000</td>\n",
       "      <td>10000.000000</td>\n",
       "    </tr>\n",
       "    <tr>\n",
       "      <th>mean</th>\n",
       "      <td>1.815200</td>\n",
       "      <td>8.101100</td>\n",
       "      <td>3.029200</td>\n",
       "      <td>52.252600</td>\n",
       "    </tr>\n",
       "    <tr>\n",
       "      <th>std</th>\n",
       "      <td>0.570587</td>\n",
       "      <td>1.425914</td>\n",
       "      <td>0.986532</td>\n",
       "      <td>10.172529</td>\n",
       "    </tr>\n",
       "    <tr>\n",
       "      <th>min</th>\n",
       "      <td>0.250000</td>\n",
       "      <td>5.000000</td>\n",
       "      <td>1.000000</td>\n",
       "      <td>40.000000</td>\n",
       "    </tr>\n",
       "    <tr>\n",
       "      <th>25%</th>\n",
       "      <td>1.500000</td>\n",
       "      <td>7.500000</td>\n",
       "      <td>3.000000</td>\n",
       "      <td>42.000000</td>\n",
       "    </tr>\n",
       "    <tr>\n",
       "      <th>50%</th>\n",
       "      <td>2.000000</td>\n",
       "      <td>8.500000</td>\n",
       "      <td>3.000000</td>\n",
       "      <td>51.000000</td>\n",
       "    </tr>\n",
       "    <tr>\n",
       "      <th>75%</th>\n",
       "      <td>2.250000</td>\n",
       "      <td>9.500000</td>\n",
       "      <td>4.000000</td>\n",
       "      <td>63.000000</td>\n",
       "    </tr>\n",
       "    <tr>\n",
       "      <th>max</th>\n",
       "      <td>2.500000</td>\n",
       "      <td>10.000000</td>\n",
       "      <td>4.000000</td>\n",
       "      <td>69.000000</td>\n",
       "    </tr>\n",
       "  </tbody>\n",
       "</table>\n",
       "</div>"
      ],
      "text/plain": [
       "       Screentime_before_sleep_hrs     Workhours   Meal_intake  \\\n",
       "count                 10000.000000  10000.000000  10000.000000   \n",
       "mean                      1.815200      8.101100      3.029200   \n",
       "std                       0.570587      1.425914      0.986532   \n",
       "min                       0.250000      5.000000      1.000000   \n",
       "25%                       1.500000      7.500000      3.000000   \n",
       "50%                       2.000000      8.500000      3.000000   \n",
       "75%                       2.250000      9.500000      4.000000   \n",
       "max                       2.500000     10.000000      4.000000   \n",
       "\n",
       "       Sleep_Quality_%  \n",
       "count     10000.000000  \n",
       "mean         52.252600  \n",
       "std          10.172529  \n",
       "min          40.000000  \n",
       "25%          42.000000  \n",
       "50%          51.000000  \n",
       "75%          63.000000  \n",
       "max          69.000000  "
      ]
     },
     "execution_count": 6,
     "metadata": {},
     "output_type": "execute_result"
    }
   ],
   "source": [
    "df_sleep.describe()"
   ]
  },
  {
   "cell_type": "code",
   "execution_count": 7,
   "id": "74d855dc-fcac-4050-acac-b8f3fce6cf5d",
   "metadata": {},
   "outputs": [
    {
     "name": "stdout",
     "output_type": "stream",
     "text": [
      "                               min   max     mean\n",
      "Screentime_before_sleep_hrs   0.25   2.5   1.8152\n",
      "Meal_intake                   1.00   4.0   3.0292\n",
      "Workhours                     5.00  10.0   8.1011\n",
      "Sleep_Quality_%              40.00  69.0  52.2526\n"
     ]
    }
   ],
   "source": [
    "print(df_sleep.describe(include=['number']).loc[['min','max','mean']].T.sort_values('max'))"
   ]
  },
  {
   "cell_type": "code",
   "execution_count": 8,
   "id": "b72c314d-2a6b-4b9a-b695-1cbf76d866ff",
   "metadata": {},
   "outputs": [
    {
     "name": "stdout",
     "output_type": "stream",
     "text": [
      "<class 'pandas.core.frame.DataFrame'>\n",
      "RangeIndex: 10000 entries, 0 to 9999\n",
      "Data columns (total 11 columns):\n",
      " #   Column                       Non-Null Count  Dtype  \n",
      "---  ------                       --------------  -----  \n",
      " 0   Gender                       10000 non-null  object \n",
      " 1   Sleep_time                   10000 non-null  object \n",
      " 2   Wake_up_time                 10000 non-null  object \n",
      " 3   Sleep_duration               10000 non-null  object \n",
      " 4   Health_status                10000 non-null  object \n",
      " 5   Screentime_before_sleep_hrs  10000 non-null  float64\n",
      " 6   Workhours                    10000 non-null  float64\n",
      " 7   Meal_intake                  10000 non-null  int64  \n",
      " 8   Smoking                      10000 non-null  bool   \n",
      " 9   Drinking                     10000 non-null  bool   \n",
      " 10  Sleep_Quality_%              10000 non-null  int64  \n",
      "dtypes: bool(2), float64(2), int64(2), object(5)\n",
      "memory usage: 722.8+ KB\n"
     ]
    }
   ],
   "source": [
    "df_sleep.info()"
   ]
  },
  {
   "cell_type": "code",
   "execution_count": 9,
   "id": "af929a26-c93b-4492-89f9-b157d4703ce4",
   "metadata": {},
   "outputs": [
    {
     "data": {
      "text/plain": [
       "Gender                         0\n",
       "Sleep_time                     0\n",
       "Wake_up_time                   0\n",
       "Sleep_duration                 0\n",
       "Health_status                  0\n",
       "Screentime_before_sleep_hrs    0\n",
       "Workhours                      0\n",
       "Meal_intake                    0\n",
       "Smoking                        0\n",
       "Drinking                       0\n",
       "Sleep_Quality_%                0\n",
       "dtype: int64"
      ]
     },
     "execution_count": 9,
     "metadata": {},
     "output_type": "execute_result"
    }
   ],
   "source": [
    "df_sleep.isnull().sum().sort_values(ascending=False)"
   ]
  },
  {
   "cell_type": "code",
   "execution_count": 10,
   "id": "0e0a6cbb-ac53-4d6e-ba2b-6f0eb0f14594",
   "metadata": {},
   "outputs": [
    {
     "data": {
      "text/plain": [
       "(10000, 11)"
      ]
     },
     "execution_count": 10,
     "metadata": {},
     "output_type": "execute_result"
    }
   ],
   "source": [
    "df_sleep.shape"
   ]
  },
  {
   "cell_type": "code",
   "execution_count": 11,
   "id": "3c6d9fe7-de44-479a-a2c0-28aef00785d1",
   "metadata": {},
   "outputs": [
    {
     "data": {
      "text/plain": [
       "Gender                          3\n",
       "Sleep_time                     40\n",
       "Wake_up_time                   64\n",
       "Sleep_duration                 36\n",
       "Health_status                   3\n",
       "Screentime_before_sleep_hrs    10\n",
       "Workhours                      11\n",
       "Meal_intake                     4\n",
       "Smoking                         2\n",
       "Drinking                        2\n",
       "Sleep_Quality_%                20\n",
       "dtype: int64"
      ]
     },
     "execution_count": 11,
     "metadata": {},
     "output_type": "execute_result"
    }
   ],
   "source": [
    "df_sleep.nunique()"
   ]
  },
  {
   "cell_type": "markdown",
   "id": "a443ece6-16c4-4bb1-879e-da59bd580b76",
   "metadata": {},
   "source": [
    "### Categorical Data"
   ]
  },
  {
   "cell_type": "code",
   "execution_count": 12,
   "id": "cd3bed2a-d5d7-4101-a2b0-b610ac77f59a",
   "metadata": {},
   "outputs": [
    {
     "data": {
      "text/html": [
       "<div>\n",
       "<style scoped>\n",
       "    .dataframe tbody tr th:only-of-type {\n",
       "        vertical-align: middle;\n",
       "    }\n",
       "\n",
       "    .dataframe tbody tr th {\n",
       "        vertical-align: top;\n",
       "    }\n",
       "\n",
       "    .dataframe thead th {\n",
       "        text-align: right;\n",
       "    }\n",
       "</style>\n",
       "<table border=\"1\" class=\"dataframe\">\n",
       "  <thead>\n",
       "    <tr style=\"text-align: right;\">\n",
       "      <th></th>\n",
       "      <th>Gender</th>\n",
       "      <th>Sleep_time</th>\n",
       "      <th>Wake_up_time</th>\n",
       "      <th>Sleep_duration</th>\n",
       "      <th>Health_status</th>\n",
       "      <th>Smoking</th>\n",
       "      <th>Drinking</th>\n",
       "    </tr>\n",
       "  </thead>\n",
       "  <tbody>\n",
       "    <tr>\n",
       "      <th>count</th>\n",
       "      <td>10000</td>\n",
       "      <td>10000</td>\n",
       "      <td>10000</td>\n",
       "      <td>10000</td>\n",
       "      <td>10000</td>\n",
       "      <td>10000</td>\n",
       "      <td>10000</td>\n",
       "    </tr>\n",
       "    <tr>\n",
       "      <th>unique</th>\n",
       "      <td>3</td>\n",
       "      <td>40</td>\n",
       "      <td>64</td>\n",
       "      <td>36</td>\n",
       "      <td>3</td>\n",
       "      <td>2</td>\n",
       "      <td>2</td>\n",
       "    </tr>\n",
       "    <tr>\n",
       "      <th>top</th>\n",
       "      <td>Male</td>\n",
       "      <td>2022-05-05 18:15:00</td>\n",
       "      <td>2022-05-06 04:30:00</td>\n",
       "      <td>0 days 05:15:00</td>\n",
       "      <td>Healthy</td>\n",
       "      <td>True</td>\n",
       "      <td>True</td>\n",
       "    </tr>\n",
       "    <tr>\n",
       "      <th>freq</th>\n",
       "      <td>4977</td>\n",
       "      <td>282</td>\n",
       "      <td>421</td>\n",
       "      <td>419</td>\n",
       "      <td>4205</td>\n",
       "      <td>6083</td>\n",
       "      <td>6125</td>\n",
       "    </tr>\n",
       "  </tbody>\n",
       "</table>\n",
       "</div>"
      ],
      "text/plain": [
       "       Gender           Sleep_time         Wake_up_time   Sleep_duration  \\\n",
       "count   10000                10000                10000            10000   \n",
       "unique      3                   40                   64               36   \n",
       "top      Male  2022-05-05 18:15:00  2022-05-06 04:30:00  0 days 05:15:00   \n",
       "freq     4977                  282                  421              419   \n",
       "\n",
       "       Health_status Smoking Drinking  \n",
       "count          10000   10000    10000  \n",
       "unique             3       2        2  \n",
       "top          Healthy    True     True  \n",
       "freq            4205    6083     6125  "
      ]
     },
     "execution_count": 12,
     "metadata": {},
     "output_type": "execute_result"
    }
   ],
   "source": [
    "categorical_columns = df_sleep.select_dtypes(exclude=[np.number])\n",
    "categorical_columns.describe()"
   ]
  },
  {
   "cell_type": "code",
   "execution_count": 13,
   "id": "45470ade-2c03-4572-acd9-23088bdb586c",
   "metadata": {},
   "outputs": [
    {
     "data": {
      "text/plain": [
       "<AxesSubplot:xlabel='Gender', ylabel='count'>"
      ]
     },
     "execution_count": 13,
     "metadata": {},
     "output_type": "execute_result"
    },
    {
     "data": {
      "image/png": "[encoded data removed]",
      "text/plain": [
       "<Figure size 432x288 with 1 Axes>"
      ]
     },
     "metadata": {
      "needs_background": "light"
     },
     "output_type": "display_data"
    }
   ],
   "source": [
    "sns.countplot(x='Gender', data=df_sleep)"
   ]
  },
  {
   "cell_type": "code",
   "execution_count": 14,
   "id": "b10ddb3c-d0c1-41b7-8ede-62df43bf0096",
   "metadata": {},
   "outputs": [
    {
     "data": {
      "text/plain": [
       "<AxesSubplot:xlabel='Sleep_time', ylabel='count'>"
      ]
     },
     "execution_count": 14,
     "metadata": {},
     "output_type": "execute_result"
    },
    {
     "data": {
      "image/png": "[encoded data removed]",
      "text/plain": [
       "<Figure size 432x288 with 1 Axes>"
      ]
     },
     "metadata": {
      "needs_background": "light"
     },
     "output_type": "display_data"
    }
   ],
   "source": [
    "sns.countplot(x='Sleep_time', data=df_sleep)"
   ]
  },
  {
   "cell_type": "code",
   "execution_count": 15,
   "id": "bb79b364-91f2-4abc-8ea7-34d4ac0c8c70",
   "metadata": {},
   "outputs": [
    {
     "data": {
      "text/plain": [
       "<AxesSubplot:xlabel='Wake_up_time', ylabel='count'>"
      ]
     },
     "execution_count": 15,
     "metadata": {},
     "output_type": "execute_result"
    },
    {
     "data": {
      "image/png": "[encoded data removed]",
      "text/plain": [
       "<Figure size 432x288 with 1 Axes>"
      ]
     },
     "metadata": {
      "needs_background": "light"
     },
     "output_type": "display_data"
    }
   ],
   "source": [
    "sns.countplot(x='Wake_up_time', data=df_sleep)"
   ]
  },
  {
   "cell_type": "code",
   "execution_count": 16,
   "id": "770d6b89-8d62-4a66-ab8a-2574467b384a",
   "metadata": {},
   "outputs": [
    {
     "data": {
      "text/plain": [
       "<AxesSubplot:xlabel='Sleep_duration', ylabel='count'>"
      ]
     },
     "execution_count": 16,
     "metadata": {},
     "output_type": "execute_result"
    },
    {
     "data": {
      "image/png": "[encoded data removed]",
      "text/plain": [
       "<Figure size 432x288 with 1 Axes>"
      ]
     },
     "metadata": {
      "needs_background": "light"
     },
     "output_type": "display_data"
    }
   ],
   "source": [
    "sns.countplot(x='Sleep_duration', data=df_sleep)"
   ]
  },
  {
   "cell_type": "code",
   "execution_count": 17,
   "id": "ab8a82db-5dbb-484a-b3a9-bf12ae92b8b5",
   "metadata": {},
   "outputs": [
    {
     "data": {
      "text/plain": [
       "<AxesSubplot:xlabel='Health_status', ylabel='count'>"
      ]
     },
     "execution_count": 17,
     "metadata": {},
     "output_type": "execute_result"
    },
    {
     "data": {
      "image/png": "[encoded data removed]",
      "text/plain": [
       "<Figure size 432x288 with 1 Axes>"
      ]
     },
     "metadata": {
      "needs_background": "light"
     },
     "output_type": "display_data"
    }
   ],
   "source": [
    "sns.countplot(x='Health_status', data=df_sleep)"
   ]
  },
  {
   "cell_type": "code",
   "execution_count": 18,
   "id": "eecac448-3641-4938-9f04-ab314812b327",
   "metadata": {},
   "outputs": [
    {
     "data": {
      "text/plain": [
       "<AxesSubplot:xlabel='Smoking', ylabel='count'>"
      ]
     },
     "execution_count": 18,
     "metadata": {},
     "output_type": "execute_result"
    },
    {
     "data": {
      "image/png": "[encoded data removed]",
      "text/plain": [
       "<Figure size 432x288 with 1 Axes>"
      ]
     },
     "metadata": {
      "needs_background": "light"
     },
     "output_type": "display_data"
    }
   ],
   "source": [
    "sns.countplot(x='Smoking', data=df_sleep)"
   ]
  },
  {
   "cell_type": "code",
   "execution_count": 19,
   "id": "b348a5e2-4400-4242-b4f7-5f4efcfa4941",
   "metadata": {},
   "outputs": [
    {
     "data": {
      "text/plain": [
       "<AxesSubplot:xlabel='Drinking', ylabel='count'>"
      ]
     },
     "execution_count": 19,
     "metadata": {},
     "output_type": "execute_result"
    },
    {
     "data": {
      "image/png": "[encoded data removed]",
      "text/plain": [
       "<Figure size 432x288 with 1 Axes>"
      ]
     },
     "metadata": {
      "needs_background": "light"
     },
     "output_type": "display_data"
    }
   ],
   "source": [
    "sns.countplot(x='Drinking', data=df_sleep)"
   ]
  },
  {
   "cell_type": "code",
   "execution_count": 20,
   "id": "9baeef29-8236-4a61-a865-4673752344ba",
   "metadata": {},
   "outputs": [
    {
     "data": {
      "image/png": "[encoded data removed]",
      "text/plain": [
       "<Figure size 864x864 with 4 Axes>"
      ]
     },
     "metadata": {
      "needs_background": "light"
     },
     "output_type": "display_data"
    }
   ],
   "source": [
    "final_Df = df_sleep\n",
    "final_Df.hist(bins=50, figsize = (12,12))\n",
    "plt.show()"
   ]
  },
  {
   "cell_type": "code",
   "execution_count": 21,
   "id": "cfb331c7-d4e4-4705-90f4-78854a74add2",
   "metadata": {},
   "outputs": [
    {
     "data": {
      "image/png": "[encoded data removed]",
      "text/plain": [
       "<Figure size 648x648 with 9 Axes>"
      ]
     },
     "metadata": {
      "needs_background": "light"
     },
     "output_type": "display_data"
    }
   ],
   "source": [
    "final_Df[['Screentime_before_sleep_hrs','Workhours','Meal_intake','Sleep_Quality_%']].plot(kind='box', subplots=True, layout=(3,3), sharex =False, sharey=False, figsize=(9,9), title='Box Plot of Sleep dataset for every independent variable')\n",
    "plt.show()"
   ]
  },
  {
   "cell_type": "code",
   "execution_count": 32,
   "id": "d0df8b04-cb62-4c9b-9916-aa8be5fc175e",
   "metadata": {},
   "outputs": [
    {
     "data": {
      "text/plain": [
       "2.0"
      ]
     },
     "execution_count": 32,
     "metadata": {},
     "output_type": "execute_result"
    }
   ],
   "source": [
    "median = np.median(final_Df.Screentime_before_sleep_hrs)\n",
    "median"
   ]
  }
 ],
 "metadata": {
  "kernelspec": {
   "display_name": "Python 3 (ipykernel)",
   "language": "python",
   "name": "python3"
  },
  "language_info": {
   "codemirror_mode": {
    "name": "ipython",
    "version": 3
   },
   "file_extension": ".py",
   "mimetype": "text/x-python",
   "name": "python",
   "nbconvert_exporter": "python",
   "pygments_lexer": "ipython3",
   "version": "3.9.2"
  }
 },
 "nbformat": 4,
 "nbformat_minor": 5
}
